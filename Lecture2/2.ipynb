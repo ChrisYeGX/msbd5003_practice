{
 "cells": [
  {
   "cell_type": "code",
   "execution_count": 1,
   "metadata": {
    "scrolled": true
   },
   "outputs": [],
   "source": [
    "import pyspark\n",
    "from pyspark import SparkContext\n",
    "lines = sc.textFile(\"adj_noun_pairs.txt\")"
   ]
  },
  {
   "cell_type": "code",
   "execution_count": 8,
   "metadata": {},
   "outputs": [
    {
     "name": "stdout",
     "output_type": "stream",
     "text": [
      "[1, 2, 3, 4, 5, 6, 7, 8, 9]\n"
     ]
    },
    {
     "data": {
      "text/plain": [
       "[1, 2, 3, 4, 5, 6, 7, 8, 9, 10, 11, 12, 13, 14]"
      ]
     },
     "execution_count": 8,
     "metadata": {},
     "output_type": "execute_result"
    }
   ],
   "source": [
    "a=sc.parallelize(xrange(1,1000))\n",
    "t=100\n",
    "v=a.filter(lambda x: x*x<t)\n",
    "print(v.collect())\n",
    "t=200\n",
    "c=v.filter(lambda x: x*x<t)          \n",
    "c.collect()\n",
    "\n"
   ]
  },
  {
   "cell_type": "code",
   "execution_count": 2,
   "metadata": {
    "scrolled": true
   },
   "outputs": [
    {
     "name": "stdout",
     "output_type": "stream",
     "text": [
      "3162692\n"
     ]
    }
   ],
   "source": [
    "print lines.count()"
   ]
  },
  {
   "cell_type": "code",
   "execution_count": 3,
   "metadata": {},
   "outputs": [
    {
     "data": {
      "text/plain": [
       "2"
      ]
     },
     "execution_count": 3,
     "metadata": {},
     "output_type": "execute_result"
    }
   ],
   "source": [
    "lines.getNumPartitions()"
   ]
  },
  {
   "cell_type": "code",
   "execution_count": 4,
   "metadata": {
    "scrolled": true
   },
   "outputs": [
    {
     "data": {
      "text/plain": [
       "[u'early radical',\n",
       " u'french revolution',\n",
       " u'pejorative way',\n",
       " u'violent means',\n",
       " u'positive label']"
      ]
     },
     "execution_count": 4,
     "metadata": {},
     "output_type": "execute_result"
    }
   ],
   "source": [
    "lines.take(5)"
   ]
  },
  {
   "cell_type": "code",
   "execution_count": 5,
   "metadata": {},
   "outputs": [
    {
     "data": {
      "text/plain": [
       "PythonRDD[6] at RDD at PythonRDD.scala:53"
      ]
     },
     "execution_count": 5,
     "metadata": {},
     "output_type": "execute_result"
    }
   ],
   "source": [
    "# Converting lines into word pairs. \n",
    "# Data is dirty: some lines have more than 2 words, so filter them out.\n",
    "lines = sc.textFile(\"adj_noun_pairs.txt\")\n",
    "pairs = lines.map(lambda l: tuple(l.split())).filter(lambda p: len(p)==2)\n",
    "pairs.cache()\n",
    "#pairs.collect()"
   ]
  },
  {
   "cell_type": "code",
   "execution_count": 6,
   "metadata": {},
   "outputs": [
    {
     "data": {
      "text/plain": [
       "[(u'early', u'radical'),\n",
       " (u'french', u'revolution'),\n",
       " (u'pejorative', u'way'),\n",
       " (u'violent', u'means'),\n",
       " (u'positive', u'label')]"
      ]
     },
     "execution_count": 6,
     "metadata": {},
     "output_type": "execute_result"
    }
   ],
   "source": [
    "\n",
    "\n",
    "\n",
    "\n",
    "pairs.take(5)"
   ]
  },
  {
   "cell_type": "code",
   "execution_count": 7,
   "metadata": {},
   "outputs": [],
   "source": [
    "N = pairs.count()"
   ]
  },
  {
   "cell_type": "code",
   "execution_count": 8,
   "metadata": {},
   "outputs": [
    {
     "data": {
      "text/plain": [
       "3162674"
      ]
     },
     "execution_count": 8,
     "metadata": {},
     "output_type": "execute_result"
    }
   ],
   "source": [
    "N"
   ]
  },
  {
   "cell_type": "code",
   "execution_count": 9,
   "metadata": {},
   "outputs": [],
   "source": [
    "# Compute the frequency of each pair.\n",
    "# Ignore pairs that not frequent enough\n",
    "pair_freqs = pairs.map(lambda p:  (p,1)).reduceByKey(lambda f1, f2: f1 + f2) \\\n",
    "                  .filter(lambda pf: pf[1] >= 100)"
   ]
  },
  {
   "cell_type": "code",
   "execution_count": 10,
   "metadata": {},
   "outputs": [
    {
     "data": {
      "text/plain": [
       "[((u'much', u'debate'), 136),\n",
       " ((u'new', u'name'), 221),\n",
       " ((u'other', u'country'), 1857),\n",
       " ((u'other', u'book'), 223),\n",
       " ((u'present', u'husband'), 414)]"
      ]
     },
     "execution_count": 10,
     "metadata": {},
     "output_type": "execute_result"
    }
   ],
   "source": [
    "pair_freqs.take(5)"
   ]
  },
  {
   "cell_type": "code",
   "execution_count": 11,
   "metadata": {},
   "outputs": [],
   "source": [
    "# Computing the frequencies of the adjectives and the nouns\n",
    "a_freqs = pairs.map(lambda p: (p[0],1)).reduceByKey(lambda x,y: x+y)\n",
    "n_freqs = pairs.map(lambda p: (p[1],1)).reduceByKey(lambda x,y: x+y)"
   ]
  },
  {
   "cell_type": "code",
   "execution_count": 12,
   "metadata": {},
   "outputs": [
    {
     "data": {
      "text/plain": [
       "[(u'fawn', 2),\n",
       " (u'base-paired', 3),\n",
       " (u'eicosapentanoic', 1),\n",
       " (u'host-cell', 2),\n",
       " (u'1,800', 1)]"
      ]
     },
     "execution_count": 12,
     "metadata": {},
     "output_type": "execute_result"
    }
   ],
   "source": [
    "a_freqs.take(5)"
   ]
  },
  {
   "cell_type": "code",
   "execution_count": 13,
   "metadata": {},
   "outputs": [
    {
     "data": {
      "text/plain": [
       "106333"
      ]
     },
     "execution_count": 13,
     "metadata": {},
     "output_type": "execute_result"
    }
   ],
   "source": [
    "n_freqs.count()"
   ]
  },
  {
   "cell_type": "code",
   "execution_count": 14,
   "metadata": {},
   "outputs": [
    {
     "name": "stdout",
     "output_type": "stream",
     "text": [
      "1191\n",
      "1191\n"
     ]
    }
   ],
   "source": [
    "# Broadcasting the adjective and noun frequencies. \n",
    "#a_dict = a_freqs.collectAsMap()\n",
    "#a_dict = sc.parallelize(a_dict).map(lambda x: x)\n",
    "n_dict = sc.broadcast(n_freqs.collectAsMap())\n",
    "a_dict = sc.broadcast(a_freqs.collectAsMap())\n",
    "global b\n",
    "b=a_freqs.collectAsMap()\n",
    "print a_dict.value['violent']\n",
    "print b['violent']"
   ]
  },
  {
   "cell_type": "code",
   "execution_count": 15,
   "metadata": {},
   "outputs": [],
   "source": [
    " from math import *\n",
    "\n",
    "# Computing the PMI for a pair.\n",
    "def pmi_score(pair_freq):\n",
    "    w1, w2 = pair_freq[0]\n",
    "    f = pair_freq[1]\n",
    "    pmi = log(float(f)*N/(b[w1]*n_dict.value[w2]), 2)\n",
    "    return pmi, (w1, w2)"
   ]
  },
  {
   "cell_type": "code",
   "execution_count": 16,
   "metadata": {},
   "outputs": [],
   "source": [
    "# Computing the PMI for all pairs.\n",
    "scored_pairs = pair_freqs.map(pmi_score)"
   ]
  },
  {
   "cell_type": "code",
   "execution_count": 17,
   "metadata": {},
   "outputs": [
    {
     "data": {
      "text/plain": [
       "[(14.41018838546462, (u'magna', u'carta')),\n",
       " (13.071365888694997, (u'polish-lithuanian', u'Commonwealth')),\n",
       " (12.990597616733414, (u'nitrous', u'oxide')),\n",
       " (12.64972604311254, (u'latter-day', u'Saints')),\n",
       " (12.50658937509916, (u'stainless', u'steel')),\n",
       " (12.482331020687814, (u'pave', u'runway')),\n",
       " (12.19140721768055, (u'corporal', u'punishment')),\n",
       " (12.183248694293388, (u'capital', u'punishment')),\n",
       " (12.147015483562537, (u'rush', u'yard')),\n",
       " (12.109945794428935, (u'globular', u'cluster'))]"
      ]
     },
     "execution_count": 17,
     "metadata": {},
     "output_type": "execute_result"
    }
   ],
   "source": [
    "# Printing the most strongly associated pairs. \n",
    "scored_pairs.top(10)"
   ]
  },
  {
   "cell_type": "code",
   "execution_count": null,
   "metadata": {},
   "outputs": [],
   "source": []
  },
  {
   "cell_type": "code",
   "execution_count": null,
   "metadata": {},
   "outputs": [],
   "source": []
  }
 ],
 "metadata": {
  "kernelspec": {
   "display_name": "Python 2",
   "language": "python",
   "name": "python2"
  },
  "language_info": {
   "codemirror_mode": {
    "name": "ipython",
    "version": 2
   },
   "file_extension": ".py",
   "mimetype": "text/x-python",
   "name": "python",
   "nbconvert_exporter": "python",
   "pygments_lexer": "ipython2",
   "version": "2.7.16"
  }
 },
 "nbformat": 4,
 "nbformat_minor": 1
}
