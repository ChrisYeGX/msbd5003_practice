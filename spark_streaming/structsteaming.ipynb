{
 "cells": [
  {
   "cell_type": "code",
   "execution_count": 1,
   "metadata": {},
   "outputs": [
    {
     "name": "stdout",
     "output_type": "stream",
     "text": [
      "Total distinct words:  197186\n",
      "[((u'delete', u'wikishouldoffersimplifieduseoftable'), [35]), ((u'advanced', u'electronic-counter-counter-measure'), [34]), ((u'delete', u'atlasshrugged/passengernumber1'), [30]), ((u'=', u'lowland_anoa_drawing_historic'), [29]), ((u'delete', u'atlasshrugged/taggartbuilding'), [29])]\n",
      "Total distinct words:  341011\n",
      "[((u'delete', u'whichwikishouldweuse/naminglinkingdiscussion'), [44]), ((u'delete', u'BusinessSchools/UniversityOfMichiganAnnArbor'), [44]), ((u'delete', u'wikishouldoffersimplifieduseoftable'), [35]), ((u'advanced', u'electronic-counter-counter-measure'), [34]), ((u'at-taqafah', u'wad-dimuqratiyyah/rassemblement'), [31])]\n",
      "Total distinct words:  465420\n",
      "[((u'delete', u'whichwikishouldweuse/naminglinkingdiscussion'), [44]), ((u'delete', u'BusinessSchools/UniversityOfMichiganAnnArbor'), [44]), ((u'stack-oriented', u'non-english-based_programming_languages'), [39]), ((u'delete', u'BusinessSchools/UniversityOfWashington'), [38]), ((u'delete', u'wikishouldoffersimplifieduseoftable'), [35])]\n"
     ]
    },
    {
     "name": "stderr",
     "output_type": "stream",
     "text": [
      "Traceback (most recent call last):\n",
      "  File \"/home/chris/anaconda3/envs/ipykernel_py2/lib/python2.7/SocketServer.py\", line 293, in _handle_request_noblock\n",
      "ERROR:root:Exception while sending command.\n",
      "Traceback (most recent call last):\n",
      "  File \"/usr/spark-2.4.4-bin-hadoop2.7/python/lib/py4j-0.10.7-src.zip/py4j/java_gateway.py\", line 985, in send_command\n",
      "    response = connection.send_command(command)\n",
      "  File \"/usr/spark-2.4.4-bin-hadoop2.7/python/lib/py4j-0.10.7-src.zip/py4j/java_gateway.py\", line 1164, in send_command\n",
      "    \"Error while receiving\", e, proto.ERROR_ON_RECEIVE)\n",
      "Py4JNetworkError: Error while receiving\n"
     ]
    },
    {
     "name": "stdout",
     "output_type": "stream",
     "text": [
      "----------------------------------------\n",
      "Exception happened during processing of request from ('127.0.0.1', 56520)\n",
      "----------------------------------------\n"
     ]
    },
    {
     "name": "stderr",
     "output_type": "stream",
     "text": [
      "    self.process_request(request, client_address)\n",
      "  File \"/home/chris/anaconda3/envs/ipykernel_py2/lib/python2.7/SocketServer.py\", line 321, in process_request\n",
      "    self.finish_request(request, client_address)\n",
      "  File \"/home/chris/anaconda3/envs/ipykernel_py2/lib/python2.7/SocketServer.py\", line 334, in finish_request\n",
      "    self.RequestHandlerClass(request, client_address, self)\n",
      "  File \"/home/chris/anaconda3/envs/ipykernel_py2/lib/python2.7/SocketServer.py\", line 655, in __init__\n",
      "    self.handle()\n",
      "  File \"/usr/spark-2.4.4-bin-hadoop2.7/python/pyspark/accumulators.py\", line 269, in handle\n",
      "    poll(accum_updates)\n",
      "  File \"/usr/spark-2.4.4-bin-hadoop2.7/python/pyspark/accumulators.py\", line 241, in poll\n",
      "    if func():\n",
      "  File \"/usr/spark-2.4.4-bin-hadoop2.7/python/pyspark/accumulators.py\", line 245, in accum_updates\n",
      "    num_updates = read_int(self.rfile)\n",
      "  File \"/usr/spark-2.4.4-bin-hadoop2.7/python/pyspark/serializers.py\", line 717, in read_int\n",
      "    raise EOFError\n",
      "EOFError\n",
      "ERROR:root:Exception while sending command.\n",
      "Traceback (most recent call last):\n",
      "  File \"/usr/spark-2.4.4-bin-hadoop2.7/python/lib/py4j-0.10.7-src.zip/py4j/java_gateway.py\", line 985, in send_command\n",
      "    response = connection.send_command(command)\n",
      "  File \"/usr/spark-2.4.4-bin-hadoop2.7/python/lib/py4j-0.10.7-src.zip/py4j/java_gateway.py\", line 1164, in send_command\n",
      "    \"Error while receiving\", e, proto.ERROR_ON_RECEIVE)\n",
      "Py4JNetworkError: Error while receiving\n"
     ]
    }
   ],
   "source": [
    "from pyspark.streaming import StreamingContext\n",
    "\n",
    "# Stateful word count\n",
    "\n",
    "ssc = StreamingContext(sc, 5)\n",
    "# Provide a checkpointing directory.  Required for stateful transformations\n",
    "ssc.checkpoint(\"checkpoint\")\n",
    "\n",
    "rdd = sc.textFile('adj_noun_pairs.txt', 8)\n",
    "rddQueue = rdd.randomSplit([1]*10, 123)\n",
    "lines = ssc.queueStream(rddQueue)\n",
    "\n",
    "def cleandata(l):\n",
    "    l = l.split(\" \")\n",
    "    if len(l[0])!=0 and len(l[1])!=0:\n",
    "        return ((l[0],l[1]),len(l[1]))\n",
    "    # add the new values with the previous running count to get the new count\n",
    "def updateFunc(newValues, runningCount):\n",
    "    if runningCount is None :\n",
    "        runningCount=0\n",
    "    return max(newValues, runningCount)\n",
    "\n",
    "#running_counts = lines.map(cleandata).reduceByKey(lambda a, b: a).updateStateByKey(updateFunc)\n",
    "running_counts = lines.map(cleandata).reduceByKey(lambda a, b: a).updateStateByKey(updateFunc)\n",
    "#running_counts.pprint()\n",
    "counts_sorted = running_counts.transform(lambda rdd: rdd.sortBy(lambda x: x[1], False))\n",
    "\n",
    "def printResults(rdd):\n",
    "    print \"Total distinct words: \", rdd.count()\n",
    "    print rdd.take(5)\n",
    "    #print 'refinery:', rdd.lookup('refinery')[0]\n",
    "\n",
    "counts_sorted.foreachRDD(printResults)\n",
    "\n",
    "ssc.start()\n",
    "#ssc.awaitTermination(200)\n",
    "#ssc.stop(False)\n",
    "#print(\"Finished\")"
   ]
  },
  {
   "cell_type": "code",
   "execution_count": null,
   "metadata": {},
   "outputs": [],
   "source": []
  }
 ],
 "metadata": {
  "kernelspec": {
   "display_name": "Python 2",
   "language": "python",
   "name": "python2"
  },
  "language_info": {
   "codemirror_mode": {
    "name": "ipython",
    "version": 2
   },
   "file_extension": ".py",
   "mimetype": "text/x-python",
   "name": "python",
   "nbconvert_exporter": "python",
   "pygments_lexer": "ipython2",
   "version": "2.7.16"
  }
 },
 "nbformat": 4,
 "nbformat_minor": 2
}
