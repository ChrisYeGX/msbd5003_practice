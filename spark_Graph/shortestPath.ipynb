{
 "cells": [
  {
   "cell_type": "code",
   "execution_count": 1,
   "metadata": {},
   "outputs": [],
   "source": [
    "file = open('pr2d.txt')\n",
    "text = file.read()\n",
    "file.close()\n",
    "text = text.split('\\n')\n",
    "verticeList = []\n",
    "outverticeList=[]\n",
    "text = [x for x in text if x != '']\n",
    "for i in text: \n",
    "    sentence = i.split(' ')\n",
    "    verticeList.append(str(sentence[0]))\n",
    "    outverticeList.append(str(sentence[0]))\n",
    "    verticeList.append(str(sentence[1]))\n",
    "verticeList = list(set(verticeList))\n",
    "outverticeList = list(set(outverticeList))\n",
    "addvertice=[]\n",
    "for i in verticeList:\n",
    "    if i not in outverticeList:\n",
    "        addvertice.append(i)\n",
    "def splitVE(line):\n",
    "    line = str(line).split(' ')\n",
    "    ver = line[0]\n",
    "    edge = [(line[1], float(line[2]))]\n",
    "    return (ver, edge)\n",
    "\n",
    "def fillINF(vertice):\n",
    "    edges = vertice[1]\n",
    "    wait = verticeList[:]\n",
    "    for i in edges:\n",
    "        wait.remove(i[0])\n",
    "    for j in wait:\n",
    "        if vertice[0] == j:\n",
    "            vertice[1].append((j, 0))\n",
    "        else:\n",
    "            vertice[1].append((j, float(\"+inf\")))\n",
    "    m = vertice[1]\n",
    "    m = sorted(m, key=lambda x: x[0])\n",
    "    return (vertice[0],m)\n",
    "\n",
    "def fillMIN(vertice, start):\n",
    "    edge =vertice[1][:]\n",
    "    ver = vertice[0]\n",
    "    if start == ver:\n",
    "        return (ver, (0, edge))\n",
    "    else:\n",
    "        return (ver, (float(\"+inf\"), edge))\n",
    "\n"
   ]
  },
  {
   "cell_type": "code",
   "execution_count": 2,
   "metadata": {},
   "outputs": [],
   "source": [
    "def getOriginalMatrix(data, start):\n",
    "    \"\"\"This function returns a complete path adjacency matrix of the start node\n",
    "       Each line stores three parts:\n",
    "       The first is a vertex name means 'from start to this vertex'\n",
    "       Then the second part store the length from start to this vertex\n",
    "       The final part stores from this vertex to all other vertices with the corresponding weight\n",
    "       \"\"\"\n",
    "    graph = sc.textFile(data)\n",
    "    formedGraph = graph.map(lambda x: splitVE(x))\n",
    "    filledGraph = formedGraph.reduceByKey(lambda x, y: x+y) \n",
    "    filledINFGraph = filledGraph.map(lambda x: fillINF(x, data))\n",
    "    filledLENGraph = filledINFGraph.map(lambda x: fillLENGTH(x, start))\n",
    "    filledLENGraph.cache()\n",
    "    return filledLENGraph\n",
    "\n",
    "def getAdjDict(data, start):\n",
    "    \"\"\"This function calculates the dictionary within values of outward edges and weights,\n",
    "       The key of this dictionary is the start\n",
    "    \"\"\"\n",
    "    adj = getOriginalMatrix(data, start).collect()\n",
    "    adjDict = dict()\n",
    "    for i in adj:\n",
    "        adjDict[i[0]] = i[1][1]\n",
    "    return adjDict"
   ]
  },
  {
   "cell_type": "code",
   "execution_count": 3,
   "metadata": {
    "scrolled": false
   },
   "outputs": [
    {
     "data": {
      "text/plain": [
       "[('2', [('3', 2.0)]),\n",
       " ('1', [('2', -3.0)]),\n",
       " ('1', [('5', 5.0)]),\n",
       " ('4', [('5', 2.0)]),\n",
       " ('3', [('4', 3.0)]),\n",
       " ('5', [('5', 0.0)])]"
      ]
     },
     "execution_count": 3,
     "metadata": {},
     "output_type": "execute_result"
    }
   ],
   "source": [
    "\n",
    "graph = sc.textFile('pr2d.txt')\n",
    "formedGraph = graph.map(lambda x: splitVE(x))\n",
    "newrdd=[]\n",
    "for i in addvertice:\n",
    "    newrdd.append((i,[(i,0.0)]))\n",
    "formedGraph.collect()  \n",
    "newrdd=sc.parallelize(newrdd,4)\n",
    "newrdd.cache()\n",
    "formedGraph=formedGraph.union(newrdd)\n",
    "#b=formedGraph.map(lambda x: fla(x)).filter(lambda x: len(x)>0).map(lambda x:(x[0][0],x))\n",
    "#formedGraph.map(lambda x: fla(x)).collect()\n",
    "#b=formedGraph.union(newrdd)\n",
    "filledGraph = formedGraph.reduceByKey(lambda x, y: x+y) \n",
    "filledINFGraph = filledGraph.map(lambda x: fillINF(x))\n",
    "filledMINGraph = filledINFGraph.map(lambda x: fillMIN(x, '1'))\n",
    "filledMINGraph.cache()\n",
    "#filledMINGraph.collect()\n",
    "formedGraph.collect() "
   ]
  },
  {
   "cell_type": "code",
   "execution_count": 24,
   "metadata": {},
   "outputs": [
    {
     "name": "stdout",
     "output_type": "stream",
     "text": [
      "[('1', 0), ('2', -3.0), ('3', inf), ('4', inf), ('5', 5.0)]\n"
     ]
    }
   ],
   "source": [
    "adj = filledMINGraph.collect()\n",
    "adjDict = dict()\n",
    "for i in adj:\n",
    "    adjDict[i[0]] = i[1][1]\n",
    "print(adjDict['1'])"
   ]
  },
  {
   "cell_type": "code",
   "execution_count": 25,
   "metadata": {},
   "outputs": [],
   "source": [
    "def newPath(vertice):\n",
    "    known = vertice[1][0]\n",
    "    edges = vertice[1][1][:]\n",
    "    edges_rep = vertice[1][1]\n",
    "    new = []\n",
    "    for i in edges:\n",
    "        newPath = i[1]+known\n",
    "        new.append((i[0], (newPath, adjDict[i[0]])))\n",
    "    return new\n",
    "\n"
   ]
  },
  {
   "cell_type": "code",
   "execution_count": 26,
   "metadata": {},
   "outputs": [
    {
     "ename": "NameError",
     "evalue": "name 'data' is not defined",
     "output_type": "error",
     "traceback": [
      "\u001b[0;31m---------------------------------------------------------------------------\u001b[0m",
      "\u001b[0;31mNameError\u001b[0m                                 Traceback (most recent call last)",
      "\u001b[0;32m<ipython-input-26-c1827229b3ac>\u001b[0m in \u001b[0;36m<module>\u001b[0;34m()\u001b[0m\n\u001b[1;32m      3\u001b[0m \u001b[0mnew\u001b[0m \u001b[0;34m=\u001b[0m \u001b[0mfilledMINGraph\u001b[0m\u001b[0;34m\u001b[0m\u001b[0m\n\u001b[1;32m      4\u001b[0m \u001b[0mflag\u001b[0m\u001b[0;34m=\u001b[0m\u001b[0;36m0\u001b[0m\u001b[0;34m\u001b[0m\u001b[0m\n\u001b[0;32m----> 5\u001b[0;31m \u001b[0madjDictionary\u001b[0m \u001b[0;34m=\u001b[0m \u001b[0mgetAdjDict\u001b[0m\u001b[0;34m(\u001b[0m\u001b[0mdata\u001b[0m\u001b[0;34m,\u001b[0m \u001b[0mstart\u001b[0m\u001b[0;34m)\u001b[0m\u001b[0;34m\u001b[0m\u001b[0m\n\u001b[0m\u001b[1;32m      6\u001b[0m \u001b[0;32mwhile\u001b[0m \u001b[0mupdate\u001b[0m\u001b[0;34m:\u001b[0m\u001b[0;34m\u001b[0m\u001b[0m\n\u001b[1;32m      7\u001b[0m     \u001b[0mflag\u001b[0m\u001b[0;34m+=\u001b[0m\u001b[0;36m1\u001b[0m\u001b[0;34m\u001b[0m\u001b[0m\n",
      "\u001b[0;31mNameError\u001b[0m: name 'data' is not defined"
     ]
    }
   ],
   "source": [
    "update = True\n",
    "origin = filledMINGraph\n",
    "new = filledMINGraph\n",
    "flag=0\n",
    "adjDictionary = getAdjDict(data, start)\n",
    "while update:\n",
    "    flag+=1\n",
    "    origin = new\n",
    "    \n",
    "    newMAPGraph = new.flatMap(lambda x: newPath(x))\n",
    "  #  print(newMAPGraph.collect())\n",
    "   # print('sssssssss')\n",
    "    new = newMAPGraph.reduceByKey(lambda x, y: x if x[0]<=y[0] else y)\n",
    "    if new.collect() == origin.collect():\n",
    "        update = False\n",
    "    elif flag == len(adjDictionary)-1:\n",
    "            update = False \n",
    "    new.collect()\n"
   ]
  },
  {
   "cell_type": "code",
   "execution_count": null,
   "metadata": {},
   "outputs": [],
   "source": []
  },
  {
   "cell_type": "code",
   "execution_count": null,
   "metadata": {},
   "outputs": [],
   "source": []
  }
 ],
 "metadata": {
  "kernelspec": {
   "display_name": "Python 2",
   "language": "python",
   "name": "python2"
  },
  "language_info": {
   "codemirror_mode": {
    "name": "ipython",
    "version": 2
   },
   "file_extension": ".py",
   "mimetype": "text/x-python",
   "name": "python",
   "nbconvert_exporter": "python",
   "pygments_lexer": "ipython2",
   "version": "2.7.16"
  }
 },
 "nbformat": 4,
 "nbformat_minor": 2
}
